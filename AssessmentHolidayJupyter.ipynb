{
 "cells": [
  {
   "cell_type": "code",
   "execution_count": 2,
   "id": "a4be27b8",
   "metadata": {},
   "outputs": [],
   "source": [
    "import datetime\n",
    "import json\n",
    "from bs4 import BeautifulSoup\n",
    "import requests\n",
    "from dataclasses import dataclass"
   ]
  },
  {
   "cell_type": "code",
   "execution_count": 7,
   "id": "d0e9d40b",
   "metadata": {},
   "outputs": [],
   "source": [
    "# -------------------------------------------\n",
    "# Modify the holiday class to \n",
    "# 1. Only accept Datetime objects for date.\n",
    "# 2. You may need to add additional functions\n",
    "# 3. You may drop the init if you are using @dataclasses\n",
    "# --------------------------------------------\n",
    "\n",
    "@dataclass\n",
    "class Holiday:\n",
    "    name: str \n",
    "    date: datetime.date\n",
    "        \n",
    "    def __str__(self):\n",
    "        return self.name\n",
    "       \n",
    "\n",
    "      "
   ]
  },
  {
   "cell_type": "code",
   "execution_count": 8,
   "id": "10e29004",
   "metadata": {},
   "outputs": [
    {
     "name": "stdout",
     "output_type": "stream",
     "text": [
      "Holiday Management\n",
      "===================\n"
     ]
    },
    {
     "ename": "NameError",
     "evalue": "name 'numHolidays' is not defined",
     "output_type": "error",
     "traceback": [
      "\u001b[1;31m---------------------------------------------------------------------------\u001b[0m",
      "\u001b[1;31mNameError\u001b[0m                                 Traceback (most recent call last)",
      "\u001b[1;32m~\\AppData\\Local\\Temp\\ipykernel_47476\\1493459932.py\u001b[0m in \u001b[0;36m<module>\u001b[1;34m\u001b[0m\n\u001b[0;32m      1\u001b[0m \u001b[0mprint\u001b[0m\u001b[1;33m(\u001b[0m\u001b[1;34m'Holiday Management'\u001b[0m\u001b[1;33m)\u001b[0m\u001b[1;33m\u001b[0m\u001b[1;33m\u001b[0m\u001b[0m\n\u001b[0;32m      2\u001b[0m \u001b[0mprint\u001b[0m\u001b[1;33m(\u001b[0m\u001b[1;34m'==================='\u001b[0m\u001b[1;33m)\u001b[0m\u001b[1;33m\u001b[0m\u001b[1;33m\u001b[0m\u001b[0m\n\u001b[1;32m----> 3\u001b[1;33m \u001b[0mprint\u001b[0m\u001b[1;33m(\u001b[0m\u001b[1;34mf'There are {numHolidays} stored in the system'\u001b[0m\u001b[1;33m)\u001b[0m\u001b[1;33m\u001b[0m\u001b[1;33m\u001b[0m\u001b[0m\n\u001b[0m",
      "\u001b[1;31mNameError\u001b[0m: name 'numHolidays' is not defined"
     ]
    }
   ],
   "source": [
    "print('Holiday Management')\n",
    "print('===================')\n",
    "print(f'There are {numHolidays} stored in the system')"
   ]
  },
  {
   "cell_type": "code",
   "execution_count": 27,
   "id": "d8a68481",
   "metadata": {},
   "outputs": [
    {
     "name": "stdout",
     "output_type": "stream",
     "text": [
      "1 -- Add a Holiday\n",
      "2 -- Remove a Holiday\n",
      "3 -- Save Holiday List\n",
      "4 -- View Holidays\n",
      "5 -- Exit\n",
      "None\n",
      "Enter your choice: 6\n",
      "Invalid option. Please enter a number between 1 and 5.\n",
      "Enter your choice: 12\n",
      "Invalid option. Please enter a number between 1 and 5.\n",
      "Enter your choice: fg\n",
      "Please enter a number.\n",
      "Enter your choice: 5\n",
      "Thanks message before exiting\n"
     ]
    }
   ],
   "source": [
    "# input for menu: Holiday Menu\n",
    "# ================\n",
    "# 1. Add a Holiday\n",
    "# 2. Remove a Holiday\n",
    "# 3. Save Holiday List\n",
    "# 4. View Holidays\n",
    "# 5. Exit\n",
    "def menu():\n",
    "    print ('1 -- Add a Holiday' )\n",
    "    print ('2 -- Remove a Holiday' )\n",
    "    print ('3 -- Save Holiday List' )\n",
    "    print ('4 -- View Holidays' )\n",
    "    print ('5 -- Exit' )\n",
    "    \n",
    "print(menu())\n",
    "\n",
    "while True:\n",
    "    try:\n",
    "        option = int(input('Enter your choice: ')) \n",
    "        if option>0 and option<6:\n",
    "            break;\n",
    " \n",
    "        else:\n",
    "            print('Invalid option. Please enter a number between 1 and 5.')\n",
    "    \n",
    "    except ValueError:\n",
    "        print('Please enter a number.')\n",
    "        continue \n",
    "        \n",
    "\n",
    "\n",
    "# option = int(input('Enter your choice: ')) \n",
    "if option == 1:\n",
    "    print('Add a Holiday')\n",
    "elif option == 2:\n",
    "    print('Remove a Holiday')\n",
    "elif option == 3:\n",
    "    print('Save Holiday List')\n",
    "elif option == 4:\n",
    "    print('View Holidays')\n",
    "elif option == 5:\n",
    "    print('Thanks message before exiting')\n",
    "    exit()\n",
    "# else:\n",
    "#     print('Invalid option. Please enter a number between 1 and 5.')\n"
   ]
  },
  {
   "cell_type": "code",
   "execution_count": 23,
   "id": "fc101c6c",
   "metadata": {},
   "outputs": [
    {
     "ename": "IndentationError",
     "evalue": "unindent does not match any outer indentation level (<tokenize>, line 10)",
     "output_type": "error",
     "traceback": [
      "\u001b[1;36m  File \u001b[1;32m\"<tokenize>\"\u001b[1;36m, line \u001b[1;32m10\u001b[0m\n\u001b[1;33m    def addHoliday(holidayObj):\u001b[0m\n\u001b[1;37m    ^\u001b[0m\n\u001b[1;31mIndentationError\u001b[0m\u001b[1;31m:\u001b[0m unindent does not match any outer indentation level\n"
     ]
    }
   ],
   "source": [
    "# -------------------------------------------\n",
    "# The HolidayList class acts as a wrapper and container\n",
    "# For the list of holidays\n",
    "# Each method has pseudo-code instructions\n",
    "# --------------------------------------------\n",
    "class HolidayList:\n",
    "   def __init__(self):\n",
    "       self.innerHolidays = []\n",
    "   \n",
    "    def addHoliday(holidayObj):\n",
    "        # Make sure holidayObj is an Holiday Object by checking the type\n",
    "        # Use innerHolidays.append(holidayObj) to add holiday\n",
    "        # print to the user that you added a holiday\n",
    "\n",
    "    def findHoliday(HolidayName, Date):\n",
    "        # Find Holiday in innerHolidays\n",
    "        # Return Holiday\n",
    "\n",
    "    def removeHoliday(HolidayName, Date):\n",
    "        # Find Holiday in innerHolidays by searching the name and date combination.\n",
    "        # remove the Holiday from innerHolidays\n",
    "        # inform user you deleted the holiday\n",
    "\n",
    "    def read_json(filelocation):\n",
    "        # Read in things from json file location\n",
    "        # Use addHoliday function to add holidays to inner list.\n",
    "\n",
    "    def save_to_json(filelocation):\n",
    "        # Write out json file to selected file.\n",
    "        \n",
    "    def scrapeHolidays():\n",
    "        # Scrape Holidays from https://www.timeanddate.com/holidays/us/ \n",
    "        # Remember, 2 previous years, current year, and 2  years into the future. You can scrape multiple years by adding year to the timeanddate URL. For example https://www.timeanddate.com/holidays/us/2022\n",
    "        # Check to see if name and date of holiday is in innerHolidays array\n",
    "        # Add non-duplicates to innerHolidays\n",
    "        # Handle any exceptions.     \n",
    "\n",
    "    def numHolidays():\n",
    "        # Return the total number of holidays in innerHolidays\n",
    "    \n",
    "    def filter_holidays_by_week(year, week_number):\n",
    "        # Use a Lambda function to filter by week number and save this as holidays, use the filter on innerHolidays\n",
    "        # Week number is part of the the Datetime object\n",
    "        # Cast filter results as list\n",
    "        # return your holidays\n",
    "\n",
    "    def displayHolidaysInWeek(holidayList):\n",
    "        # Use your filter_holidays_by_week to get list of holidays within a week as a parameter\n",
    "        # Output formated holidays in the week. \n",
    "        # * Remember to use the holiday __str__ method.\n",
    "\n",
    "    def getWeather(weekNum):\n",
    "        # Convert weekNum to range between two days\n",
    "        # Use Try / Except to catch problems\n",
    "        # Query API for weather in that week range\n",
    "        # Format weather information and return weather string.\n",
    "\n",
    "    def viewCurrentWeek():\n",
    "        # Use the Datetime Module to look up current week and year\n",
    "        # Use your filter_holidays_by_week function to get the list of holidays \n",
    "        # for the current week/year\n",
    "        # Use your displayHolidaysInWeek function to display the holidays in the week\n",
    "        # Ask user if they want to get the weather\n",
    "        # If yes, use your getWeather function and display results\n"
   ]
  },
  {
   "cell_type": "code",
   "execution_count": null,
   "id": "afb17a36",
   "metadata": {},
   "outputs": [],
   "source": []
  },
  {
   "cell_type": "code",
   "execution_count": null,
   "id": "abd82460",
   "metadata": {},
   "outputs": [],
   "source": [
    "def main():\n",
    "    # Large Pseudo Code steps\n",
    "    # -------------------------------------\n",
    "    # 1. Initialize HolidayList Object\n",
    "    # 2. Load JSON file via HolidayList read_json function\n",
    "    # 3. Scrape additional holidays using your HolidayList scrapeHolidays function.\n",
    "    # 3. Create while loop for user to keep adding or working with the Calender\n",
    "    # 4. Display User Menu (Print the menu)\n",
    "    # 5. Take user input for their action based on Menu and check the user input for errors\n",
    "    # 6. Run appropriate method from the HolidayList object depending on what the user input is\n",
    "    # 7. Ask the User if they would like to Continue, if not, end the while loop, ending the program.  If they do wish to continue, keep the program going. \n"
   ]
  },
  {
   "cell_type": "code",
   "execution_count": null,
   "id": "055e954e",
   "metadata": {},
   "outputs": [],
   "source": [
    "if __name__ == \"__main__\":\n",
    "    main();\n"
   ]
  },
  {
   "cell_type": "code",
   "execution_count": null,
   "id": "41ff3145",
   "metadata": {},
   "outputs": [],
   "source": [
    "# Additional Hints:\n",
    "# ---------------------------------------------\n",
    "# You may need additional helper functions both in and out of the classes, add functions as you need to.\n",
    "#\n",
    "# No one function should be more then 50 lines of code, if you need more then 50 lines of code\n",
    "# excluding comments, break the function into multiple functions.\n",
    "#\n",
    "# You can store your raw menu text, and other blocks of texts as raw text files \n",
    "# and use placeholder values with the format option.\n",
    "# Example:\n",
    "# In the file test.txt is \"My name is {fname}, I'm {age}\"\n",
    "# Then you later can read the file into a string \"filetxt\"\n",
    "# and substitute the placeholders \n",
    "# for example: filetxt.format(fname = \"John\", age = 36)\n",
    "# This will make your code far more readable, by seperating text from code.\n",
    "\n"
   ]
  },
  {
   "cell_type": "code",
   "execution_count": null,
   "id": "db4a1c4f",
   "metadata": {},
   "outputs": [],
   "source": []
  }
 ],
 "metadata": {
  "kernelspec": {
   "display_name": "Python 3 (ipykernel)",
   "language": "python",
   "name": "python3"
  },
  "language_info": {
   "codemirror_mode": {
    "name": "ipython",
    "version": 3
   },
   "file_extension": ".py",
   "mimetype": "text/x-python",
   "name": "python",
   "nbconvert_exporter": "python",
   "pygments_lexer": "ipython3",
   "version": "3.9.13"
  }
 },
 "nbformat": 4,
 "nbformat_minor": 5
}
